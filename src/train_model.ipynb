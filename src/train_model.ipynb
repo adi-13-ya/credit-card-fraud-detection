{
 "cells": [
  {
   "cell_type": "markdown",
   "id": "76f25071-3d2f-4baa-9508-be6befede9bf",
   "metadata": {},
   "source": [
    "# 🚨 Credit Card Fraud Detection with Machine Learning  \n",
    "\n",
    "This notebook demonstrates how to **train, evaluate, and analyze** a fraud detection model using the **Kaggle Credit Card Fraud dataset**.  \n",
    "\n",
    "We will cover:  \n",
    "\n",
    "- 📂 **Data loading & preprocessing**  \n",
    "- 🤖 **Model training**  \n",
    "- 📊 **Evaluation** (Confusion Matrix, ROC Curve, Classification Report)  \n",
    "\n",
    "---\n",
    "\n"
   ]
  },
  {
   "cell_type": "markdown",
   "id": "6697d62f-4c77-41a8-89c9-02d5edaeef64",
   "metadata": {},
   "source": [
    "## I) Training and Testing the Model"
   ]
  },
  {
   "cell_type": "code",
   "execution_count": 76,
   "id": "b5700e65-dece-4e31-b053-7593ed15e917",
   "metadata": {},
   "outputs": [],
   "source": [
    "import pandas as pd\n",
    "from sklearn.model_selection import train_test_split\n",
    "from sklearn.preprocessing import StandardScaler\n",
    "from sklearn.utils import shuffle, class_weight\n",
    "import numpy as np\n",
    "import tensorflow as tf\n",
    "from keras import Input\n",
    "from tensorflow.keras.models import Sequential\n",
    "from tensorflow.keras.layers import Dense, Dropout\n",
    "from tensorflow.keras.callbacks import EarlyStopping\n"
   ]
  },
  {
   "cell_type": "markdown",
   "id": "32996d5c-dd14-44cb-90de-2c9968a08647",
   "metadata": {},
   "source": [
    "## Load and Explore the Dataset\n",
    "We start by loading the dataset and checking its shape, columns, and class balance.\n"
   ]
  },
  {
   "cell_type": "code",
   "execution_count": 77,
   "id": "d326ee01-0ba8-42be-b0b5-e0d030b4cc03",
   "metadata": {},
   "outputs": [],
   "source": [
    "# Load the dataset\n",
    "df = pd.read_csv(\"../data/creditcard.csv\")\n",
    "\n",
    "# Optional: Shuffle data (important in imbalanced datasets)\n",
    "df = shuffle(df, random_state=42)\n",
    "\n"
   ]
  },
  {
   "cell_type": "markdown",
   "id": "bf58c1cb-eaab-4d55-b06b-f6499feb69c4",
   "metadata": {},
   "source": [
    "## Data Preprocessing\n",
    "We split the dataset into training and testing sets.\n"
   ]
  },
  {
   "cell_type": "code",
   "execution_count": 90,
   "id": "af389fb3-a999-48c8-87bd-8b090c2fde22",
   "metadata": {},
   "outputs": [
    {
     "name": "stdout",
     "output_type": "stream",
     "text": [
      "Data prepared. Training samples: 227845 Test samples: 56962\n"
     ]
    }
   ],
   "source": [
    "# Separate features and target\n",
    "X = df.drop(\"Class\", axis=1)  # Features\n",
    "y = df[\"Class\"]               # Target (0 = legit, 1 = fraud)\n",
    "\n",
    "# Scale the features (Important for NN convergence)\n",
    "scaler = StandardScaler()\n",
    "X_scaled = scaler.fit_transform(X)\n",
    "\n",
    "# Split into train and test (Stratify to keep fraud ratio same)\n",
    "X_train, X_test, y_train, y_test = train_test_split(\n",
    "    X_scaled, y, test_size=0.2, random_state=42, stratify=y\n",
    ")\n",
    "\n",
    "print(\"Data prepared. Training samples:\", len(X_train), \"Test samples:\", len(X_test))\n"
   ]
  },
  {
   "cell_type": "markdown",
   "id": "c50f5a7f-a172-4e37-b497-f4f468da3c1c",
   "metadata": {},
   "source": [
    "## For cleaner code\n",
    "We use these modules to remove extra logs in console and to hide the warnings generated."
   ]
  },
  {
   "cell_type": "code",
   "execution_count": 79,
   "id": "b41c17e8-5f4c-4c36-bc83-f34efa68d99c",
   "metadata": {},
   "outputs": [],
   "source": [
    "import os\n",
    "os.environ[\"TF_CPP_MIN_LOG_LEVEL\"] = \"3\"  # Hide most TF logs\n",
    "\n",
    "# Suppress protobuf runtime version warnings\n",
    "import warnings\n",
    "warnings.filterwarnings(\"ignore\", category=UserWarning, module='google.protobuf')\n"
   ]
  },
  {
   "cell_type": "markdown",
   "id": "a3b6d598-ff66-4698-aa75-fd92350aa303",
   "metadata": {},
   "source": [
    "## Calculating the class weights"
   ]
  },
  {
   "cell_type": "code",
   "execution_count": 80,
   "id": "5cd9f684-f8b7-4828-b405-4d8cc1a1812a",
   "metadata": {},
   "outputs": [
    {
     "name": "stdout",
     "output_type": "stream",
     "text": [
      "Class Weights: {0: np.float64(0.5008661206149896), 1: np.float64(289.14340101522845)}\n"
     ]
    }
   ],
   "source": [
    "# Compute class weights\n",
    "class_weights = class_weight.compute_class_weight(\n",
    "    class_weight=\"balanced\",\n",
    "    classes=np.unique(y_train),\n",
    "    y=y_train\n",
    ")\n",
    "\n",
    "class_weights = dict(enumerate(class_weights))\n",
    "print(\"Class Weights:\", class_weights)"
   ]
  },
  {
   "cell_type": "markdown",
   "id": "ff7ad39f-e703-43fe-92f6-04863faac48a",
   "metadata": {},
   "source": [
    "## Model Architecture\n",
    "We define a simple neural network for fraud detection.\n"
   ]
  },
  {
   "cell_type": "code",
   "execution_count": 110,
   "id": "b3f0bc9d-2785-4c5c-bef4-bc1324a19812",
   "metadata": {},
   "outputs": [],
   "source": [
    "# Define the neural network\n",
    "model = Sequential([\n",
    "    Input(shape=(X_train.shape[1],)),\n",
    "    Dense(32, activation='relu'),\n",
    "    Dropout(0.2),\n",
    "    Dense(16, activation='relu'),\n",
    "    Dropout(0.2),\n",
    "    Dense(8, activation='relu'),\n",
    "    Dropout(0.2),\n",
    "    Dense(1, activation='sigmoid')  # Output layer for binary classification\n",
    "])\n",
    "\n",
    "# Compile the model\n",
    "model.compile(optimizer='adam',\n",
    "              loss='binary_crossentropy',\n",
    "              metrics=['accuracy', tf.keras.metrics.AUC(name='auc')])\n",
    "\n",
    "# Early stopping to prevent overfitting\n",
    "early_stop = EarlyStopping(monitor='val_auc', patience=5, mode='max' , restore_best_weights=True)"
   ]
  },
  {
   "cell_type": "markdown",
   "id": "b31eb71b-0856-4491-b754-72fcdd69a755",
   "metadata": {},
   "source": [
    "## Training\n",
    "We train the model with the training dataset and validate on the test set.\n"
   ]
  },
  {
   "cell_type": "code",
   "execution_count": 111,
   "id": "c0ed61f7-e52e-417e-acbe-974951c8672d",
   "metadata": {},
   "outputs": [
    {
     "name": "stdout",
     "output_type": "stream",
     "text": [
      "Epoch 1/50\n",
      "90/90 - 1s - 10ms/step - accuracy: 0.6777 - auc: 0.7617 - loss: 0.6242 - val_accuracy: 0.9292 - val_auc: 0.9255 - val_loss: 0.4617\n",
      "Epoch 2/50\n",
      "90/90 - 0s - 1ms/step - accuracy: 0.8938 - auc: 0.8692 - loss: 0.4197 - val_accuracy: 0.9819 - val_auc: 0.9518 - val_loss: 0.3084\n",
      "Epoch 3/50\n",
      "90/90 - 0s - 1ms/step - accuracy: 0.9472 - auc: 0.8943 - loss: 0.3582 - val_accuracy: 0.9841 - val_auc: 0.9587 - val_loss: 0.2229\n",
      "Epoch 4/50\n",
      "90/90 - 0s - 1ms/step - accuracy: 0.9585 - auc: 0.9400 - loss: 0.2758 - val_accuracy: 0.9846 - val_auc: 0.9640 - val_loss: 0.1696\n",
      "Epoch 5/50\n",
      "90/90 - 0s - 1ms/step - accuracy: 0.9638 - auc: 0.9517 - loss: 0.2493 - val_accuracy: 0.9822 - val_auc: 0.9666 - val_loss: 0.1371\n",
      "Epoch 6/50\n",
      "90/90 - 0s - 1ms/step - accuracy: 0.9693 - auc: 0.9669 - loss: 0.2097 - val_accuracy: 0.9814 - val_auc: 0.9675 - val_loss: 0.1169\n",
      "Epoch 7/50\n",
      "90/90 - 0s - 1ms/step - accuracy: 0.9724 - auc: 0.9767 - loss: 0.1892 - val_accuracy: 0.9827 - val_auc: 0.9683 - val_loss: 0.0921\n",
      "Epoch 8/50\n",
      "90/90 - 0s - 1ms/step - accuracy: 0.9711 - auc: 0.9786 - loss: 0.1838 - val_accuracy: 0.9822 - val_auc: 0.9692 - val_loss: 0.0848\n",
      "Epoch 9/50\n",
      "90/90 - 0s - 1ms/step - accuracy: 0.9661 - auc: 0.9813 - loss: 0.1752 - val_accuracy: 0.9760 - val_auc: 0.9712 - val_loss: 0.0956\n",
      "Epoch 10/50\n",
      "90/90 - 0s - 1ms/step - accuracy: 0.9684 - auc: 0.9837 - loss: 0.1554 - val_accuracy: 0.9792 - val_auc: 0.9724 - val_loss: 0.0798\n",
      "Epoch 11/50\n",
      "90/90 - 0s - 1ms/step - accuracy: 0.9663 - auc: 0.9798 - loss: 0.1790 - val_accuracy: 0.9765 - val_auc: 0.9740 - val_loss: 0.0834\n",
      "Epoch 12/50\n",
      "90/90 - 0s - 1ms/step - accuracy: 0.9654 - auc: 0.9857 - loss: 0.1512 - val_accuracy: 0.9787 - val_auc: 0.9758 - val_loss: 0.0741\n",
      "Epoch 13/50\n",
      "90/90 - 0s - 1ms/step - accuracy: 0.9685 - auc: 0.9873 - loss: 0.1411 - val_accuracy: 0.9773 - val_auc: 0.9776 - val_loss: 0.0745\n",
      "Epoch 14/50\n",
      "90/90 - 0s - 1ms/step - accuracy: 0.9675 - auc: 0.9892 - loss: 0.1372 - val_accuracy: 0.9745 - val_auc: 0.9777 - val_loss: 0.0755\n",
      "Epoch 15/50\n",
      "90/90 - 0s - 1ms/step - accuracy: 0.9666 - auc: 0.9902 - loss: 0.1290 - val_accuracy: 0.9751 - val_auc: 0.9766 - val_loss: 0.0721\n",
      "Epoch 16/50\n",
      "90/90 - 0s - 1ms/step - accuracy: 0.9681 - auc: 0.9908 - loss: 0.1253 - val_accuracy: 0.9769 - val_auc: 0.9771 - val_loss: 0.0658\n",
      "Epoch 17/50\n",
      "90/90 - 0s - 1ms/step - accuracy: 0.9692 - auc: 0.9917 - loss: 0.1124 - val_accuracy: 0.9788 - val_auc: 0.9741 - val_loss: 0.0590\n",
      "Epoch 18/50\n",
      "90/90 - 0s - 1ms/step - accuracy: 0.9693 - auc: 0.9930 - loss: 0.1067 - val_accuracy: 0.9771 - val_auc: 0.9752 - val_loss: 0.0602\n",
      "Epoch 19/50\n",
      "90/90 - 0s - 1ms/step - accuracy: 0.9708 - auc: 0.9935 - loss: 0.1080 - val_accuracy: 0.9720 - val_auc: 0.9790 - val_loss: 0.0680\n",
      "Epoch 20/50\n",
      "90/90 - 0s - 2ms/step - accuracy: 0.9641 - auc: 0.9943 - loss: 0.1018 - val_accuracy: 0.9767 - val_auc: 0.9755 - val_loss: 0.0580\n",
      "Epoch 21/50\n",
      "90/90 - 0s - 1ms/step - accuracy: 0.9707 - auc: 0.9954 - loss: 0.0909 - val_accuracy: 0.9766 - val_auc: 0.9763 - val_loss: 0.0578\n",
      "Epoch 22/50\n",
      "90/90 - 0s - 1ms/step - accuracy: 0.9698 - auc: 0.9964 - loss: 0.0816 - val_accuracy: 0.9805 - val_auc: 0.9771 - val_loss: 0.0494\n",
      "Epoch 23/50\n",
      "90/90 - 0s - 1ms/step - accuracy: 0.9716 - auc: 0.9910 - loss: 0.1124 - val_accuracy: 0.9778 - val_auc: 0.9823 - val_loss: 0.0547\n",
      "Epoch 24/50\n",
      "90/90 - 0s - 1ms/step - accuracy: 0.9702 - auc: 0.9947 - loss: 0.0963 - val_accuracy: 0.9800 - val_auc: 0.9814 - val_loss: 0.0516\n",
      "Epoch 25/50\n",
      "90/90 - 0s - 1ms/step - accuracy: 0.9710 - auc: 0.9954 - loss: 0.0890 - val_accuracy: 0.9792 - val_auc: 0.9769 - val_loss: 0.0520\n",
      "Epoch 26/50\n",
      "90/90 - 0s - 1ms/step - accuracy: 0.9751 - auc: 0.9976 - loss: 0.0687 - val_accuracy: 0.9851 - val_auc: 0.9732 - val_loss: 0.0407\n",
      "Epoch 27/50\n",
      "90/90 - 0s - 1ms/step - accuracy: 0.9771 - auc: 0.9966 - loss: 0.0796 - val_accuracy: 0.9810 - val_auc: 0.9728 - val_loss: 0.0473\n",
      "Epoch 28/50\n",
      "90/90 - 0s - 1ms/step - accuracy: 0.9723 - auc: 0.9966 - loss: 0.0772 - val_accuracy: 0.9825 - val_auc: 0.9731 - val_loss: 0.0427\n"
     ]
    }
   ],
   "source": [
    "# Train the model\n",
    "history = model.fit(\n",
    "    X_train, y_train,\n",
    "    epochs=50,\n",
    "    batch_size=2048,\n",
    "    validation_split=0.2,\n",
    "    callbacks=[early_stop],\n",
    "    verbose=2,\n",
    "    class_weight = class_weights\n",
    ")"
   ]
  },
  {
   "cell_type": "markdown",
   "id": "8d3d501c-6f72-45d0-b9d6-50a1c252d45b",
   "metadata": {},
   "source": [
    "## This helps in saving the model for evaluation\n",
    "This saved model will not be used below in this notebook, but while working in Visual Studio Code it is sometimes useful to save the trained model as it may be used in different codes. "
   ]
  },
  {
   "cell_type": "code",
   "execution_count": 112,
   "id": "c5e1beee-9511-4fb6-a1f9-2a0c35245f0d",
   "metadata": {},
   "outputs": [],
   "source": [
    "model.save(\"../models/fraud_model.keras\")"
   ]
  },
  {
   "cell_type": "markdown",
   "id": "f4a47459-26d0-446b-96cf-0636aee0bddc",
   "metadata": {},
   "source": [
    "## II) Evaluating the performance "
   ]
  },
  {
   "cell_type": "code",
   "execution_count": 113,
   "id": "b3bf5236-f7ac-4d0a-a2c9-aa9b6df6db56",
   "metadata": {},
   "outputs": [],
   "source": [
    "import numpy as np\n",
    "import matplotlib.pyplot as plt\n",
    "from sklearn.metrics import classification_report, confusion_matrix, ConfusionMatrixDisplay, roc_curve, auc\n"
   ]
  },
  {
   "cell_type": "markdown",
   "id": "2456963e-2b21-4c72-9ee1-2b2d2e1cdfac",
   "metadata": {},
   "source": [
    "We evaluate the performance of our trained model by calculating the evaluation metrics: **Test Accuracy**, **Test AUC (Area Under the Curve)**, and **Test Loss**, reported up to four decimal places.\n"
   ]
  },
  {
   "cell_type": "code",
   "execution_count": 114,
   "id": "dfcf6096-b745-476d-80dd-1f40e2671ce7",
   "metadata": {},
   "outputs": [
    {
     "name": "stdout",
     "output_type": "stream",
     "text": [
      "\n",
      "Model Evaluation:\n",
      "-----------------\n",
      "Test Accuracy: 0.9783\n",
      "Test AUC: 0.9578\n",
      "Test Loss: 0.0575\n"
     ]
    }
   ],
   "source": [
    "# Evaluate the model\n",
    "test_loss, test_accuracy, test_auc = model.evaluate(X_test, y_test, verbose=0)\n",
    "print(f\"\\nModel Evaluation:\\n-----------------\")\n",
    "print(f\"Test Accuracy: {test_accuracy:.4f}\")\n",
    "print(f\"Test AUC: {test_auc:.4f}\")\n",
    "print(f\"Test Loss: {test_loss:.4f}\")"
   ]
  },
  {
   "cell_type": "markdown",
   "id": "f1ee25f6-e3d5-4ae4-8bcc-18cd6236a7b0",
   "metadata": {},
   "source": [
    "# Plotting the Confusion Matrix\n",
    "It shows the number of correct and incorrect predictions, broken down by each class."
   ]
  },
  {
   "cell_type": "code",
   "execution_count": 115,
   "id": "5ddea6c3-961d-41e7-b5af-b69752ad4937",
   "metadata": {},
   "outputs": [
    {
     "name": "stdout",
     "output_type": "stream",
     "text": [
      "\u001b[1m1781/1781\u001b[0m \u001b[32m━━━━━━━━━━━━━━━━━━━━\u001b[0m\u001b[37m\u001b[0m \u001b[1m0s\u001b[0m 183us/step\n"
     ]
    },
    {
     "data": {
      "image/png": "[encoded data removed]",
      "text/plain": [
       "<Figure size 640x480 with 2 Axes>"
      ]
     },
     "metadata": {},
     "output_type": "display_data"
    }
   ],
   "source": [
    "# Predictions\n",
    "y_pred_probs = model.predict(X_test)\n",
    "y_pred = (y_pred_probs >= 0.7).astype(\"int\")\n",
    "\n",
    "# Confusion matrix\n",
    "cm = confusion_matrix(y_test, y_pred)\n",
    "disp = ConfusionMatrixDisplay(confusion_matrix=cm, display_labels=[\"Legit\", \"Fraud\"])\n",
    "disp.plot(cmap=plt.cm.Blues)\n",
    "plt.title(\"Confusion Matrix\")\n",
    "plt.show()\n"
   ]
  },
  {
   "cell_type": "markdown",
   "id": "fc6de823-f238-4d97-8510-9cd8a83e5067",
   "metadata": {},
   "source": [
    "# Classification Report\n",
    "It is the summary of precision, recall, F1-score, and support for each class."
   ]
  },
  {
   "cell_type": "code",
   "execution_count": 116,
   "id": "52c23c9f-6b84-4310-8880-f20922252b0d",
   "metadata": {
    "scrolled": true
   },
   "outputs": [
    {
     "name": "stdout",
     "output_type": "stream",
     "text": [
      "\n",
      "Classification Report:\n",
      "-----------------------\n",
      "              precision    recall  f1-score   support\n",
      "\n",
      "       Legit     0.9998    0.9908    0.9953     56864\n",
      "       Fraud     0.1398    0.8673    0.2408        98\n",
      "\n",
      "    accuracy                         0.9906     56962\n",
      "   macro avg     0.5698    0.9291    0.6180     56962\n",
      "weighted avg     0.9983    0.9906    0.9940     56962\n",
      "\n"
     ]
    }
   ],
   "source": [
    "# Classification report\n",
    "print(\"\\nClassification Report:\\n-----------------------\")\n",
    "print(classification_report(y_test, y_pred, target_names=[\"Legit\", \"Fraud\"],digits=4))\n"
   ]
  },
  {
   "cell_type": "markdown",
   "id": "98783336-3484-4837-8679-851cc35b5ce8",
   "metadata": {},
   "source": [
    "# ROC Curve\n",
    "It is a metric that measures the model’s ability to distinguish between classes across all thresholds."
   ]
  },
  {
   "cell_type": "code",
   "execution_count": 117,
   "id": "50f4fc00-a740-49f8-9dac-77a6b8605bc9",
   "metadata": {},
   "outputs": [
    {
     "data": {
      "image/png": "[encoded data removed]",
      "text/plain": [
       "<Figure size 600x400 with 1 Axes>"
      ]
     },
     "metadata": {},
     "output_type": "display_data"
    }
   ],
   "source": [
    "# ROC Curve\n",
    "fpr, tpr, thresholds = roc_curve(y_test, y_pred_probs)\n",
    "roc_auc = auc(fpr, tpr)\n",
    "\n",
    "plt.figure(figsize=(6, 4))\n",
    "plt.plot(fpr, tpr, label=f\"AUC = {roc_auc:.4f}\")\n",
    "plt.plot([0, 1], [0, 1], linestyle='--', color='gray')\n",
    "plt.title(\"ROC Curve\")\n",
    "plt.xlabel(\"False Positive Rate\")\n",
    "plt.ylabel(\"True Positive Rate\")\n",
    "plt.legend(loc=\"lower right\")\n",
    "plt.grid(True)\n",
    "plt.tight_layout()\n",
    "plt.show()"
   ]
  },
  {
   "cell_type": "code",
   "execution_count": null,
   "id": "2080b8e2-0a7e-423d-b64c-c5b8ce4c4ffe",
   "metadata": {},
   "outputs": [],
   "source": []
  }
 ],
 "metadata": {
  "kernelspec": {
   "display_name": "Python 3 (ipykernel)",
   "language": "python",
   "name": "python3"
  },
  "language_info": {
   "codemirror_mode": {
    "name": "ipython",
    "version": 3
   },
   "file_extension": ".py",
   "mimetype": "text/x-python",
   "name": "python",
   "nbconvert_exporter": "python",
   "pygments_lexer": "ipython3",
   "version": "3.13.3"
  }
 },
 "nbformat": 4,
 "nbformat_minor": 5
}
